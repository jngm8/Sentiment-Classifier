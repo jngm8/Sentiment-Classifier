{
 "cells": [
  {
   "cell_type": "markdown",
   "id": "e305862f-49e2-4996-bbdf-0a859ede7a33",
   "metadata": {},
   "source": [
    "# Sentiment Analysis"
   ]
  },
  {
   "cell_type": "markdown",
   "id": "92122b33-ef9e-4749-822b-3f90b1f661d2",
   "metadata": {},
   "source": [
    "### 1) Classifier per Category"
   ]
  },
  {
   "cell_type": "code",
   "execution_count": 1,
   "id": "21bb879c-a121-4568-a154-cb8d4b9d2bbc",
   "metadata": {},
   "outputs": [
    {
     "name": "stderr",
     "output_type": "stream",
     "text": [
      "[nltk_data] Downloading package stopwords to\n",
      "[nltk_data]     C:\\Users\\user\\AppData\\Roaming\\nltk_data...\n",
      "[nltk_data]   Package stopwords is already up-to-date!\n"
     ]
    },
    {
     "data": {
      "text/plain": [
       "True"
      ]
     },
     "execution_count": 1,
     "metadata": {},
     "output_type": "execute_result"
    }
   ],
   "source": [
    "## Scikit-learn\n",
    "from sklearn.feature_extraction.text import CountVectorizer\n",
    "from sklearn.model_selection import train_test_split\n",
    "from sklearn.naive_bayes import MultinomialNB\n",
    "from sklearn.metrics import classification_report, confusion_matrix, accuracy_score, ConfusionMatrixDisplay\n",
    "\n",
    "## Librerias para graficación\n",
    "import matplotlib.pyplot as plt\n",
    "import seaborn as sns\n",
    "\n",
    "# NLTK es una librería particular para PLN. Tiene muchas funcionalidades entre ellas stemming y lista de palabras de parada.\n",
    "import nltk\n",
    "from nltk.corpus import stopwords\n",
    "import re\n",
    "import pandas as pd\n",
    "import os\n",
    "import csv\n",
    "\n",
    "stemmer = nltk.stem.SnowballStemmer('english') # Vamos a utlizar el Snowball Stemmer para realizar stemming (nos permite llevar las palabras a una forma estandar).\n",
    "nltk.download('stopwords')"
   ]
  },
  {
   "cell_type": "code",
   "execution_count": 2,
   "id": "779c2358-1b51-4db5-b037-0ddeef8b35e6",
   "metadata": {},
   "outputs": [],
   "source": [
    "#Preprocessing of words\n",
    "def processing_text(texto):\n",
    "    processed_feature = re.sub(r'\\W', ' ', str(texto))\n",
    "    processed_feature= re.sub(r'\\s+[a-zA-Z]\\s+', ' ', processed_feature)\n",
    "    processed_feature = re.sub(r'\\^[a-zA-Z]\\s+', ' ', processed_feature)\n",
    "    processed_feature = re.sub(r'[0-9]+', ' ', processed_feature)\n",
    "\n",
    "    return processed_feature"
   ]
  },
  {
   "cell_type": "code",
   "execution_count": 3,
   "id": "a49f3a6f",
   "metadata": {},
   "outputs": [],
   "source": [
    "# Define function to read and preprocess the reviews\n",
    "def read_and_preprocess_reviews(folder_path):\n",
    "    \n",
    "    dictionary = {}\n",
    "\n",
    "    #Define stopwords\n",
    "    stopwords_english = set(stopwords.words('english'))\n",
    "\n",
    "    for category in os.listdir(folder_path):\n",
    "        category_path = os.path.join(folder_path, category) #Category path\n",
    "        if os.path.isdir(category_path):\n",
    "            for sentiment in [\"positive\",\"negative\",\"unlabeled\"]:\n",
    "                sentiment_path = os.path.join(category_path, sentiment + '.review') #Sentiment path\n",
    "                if os.path.isfile(sentiment_path):\n",
    "                    with open(sentiment_path, 'r',encoding='utf-8') as file:\n",
    "                        review_text = file.read()\n",
    "                        # Preprocess input data\n",
    "                        preprocess = processing_text(review_text)\n",
    "                        words = nltk.word_tokenize(preprocess)\n",
    "                        string = \"\"\n",
    "                        train_reviews = []\n",
    "                        train_labels = []\n",
    "                        \n",
    "                        for word in words:\n",
    "                            if word == \"positive\" or word == \"negative\":\n",
    "                                train_labels.append(word)\n",
    "                                train_reviews.append(string)\n",
    "                                string = \"\"\n",
    "                            else:\n",
    "                                string += word + \" \"\n",
    "                        \n",
    "        # list of reviews per category with their respective class(posituive or negative)     \n",
    "        dictionary[category] = (train_reviews,train_labels)\n",
    "\n",
    "\n",
    "\n",
    "    return dictionary\n",
    "                \n",
    "\n",
    "data_folder = './Multi Domain Sentiment/processed_acl'\n",
    "reviews_training_set = read_and_preprocess_reviews(data_folder)\n"
   ]
  },
  {
   "cell_type": "code",
   "execution_count": 4,
   "id": "5a051e08-51bf-4fc8-b836-438e3be57a66",
   "metadata": {},
   "outputs": [
    {
     "name": "stdout",
     "output_type": "stream",
     "text": [
      "3674\n",
      "3674\n"
     ]
    }
   ],
   "source": [
    "print(len(reviews_training_set[\"dvd\"][0]))\n",
    "print(len(reviews_training_set[\"dvd\"][1]))"
   ]
  },
  {
   "cell_type": "markdown",
   "id": "81ec4e62-4127-4848-9656-90a99dfada6c",
   "metadata": {},
   "source": [
    "## Naive Bayes"
   ]
  },
  {
   "cell_type": "code",
   "execution_count": 6,
   "id": "095e02d6-a9db-4246-8e34-c9ff967b5548",
   "metadata": {},
   "outputs": [
    {
     "name": "stdout",
     "output_type": "stream",
     "text": [
      "0.8172661870503597\n",
      "0.7989130434782609\n",
      "0.8577981651376146\n",
      "0.8601321585903083\n"
     ]
    }
   ],
   "source": [
    "#Bag of words\n",
    "vectorizer = CountVectorizer(max_features=2500, stop_words=stopwords.words('english'))\n",
    "# Dividir training,validation y test y aplicar naive bayes. Devuelve el accuracy del modelo\n",
    "for categories in reviews_training_set:\n",
    "    \n",
    "    reviews = reviews_training_set[categories][0] #Reviews\n",
    "    labels = reviews_training_set[categories][1] #Labels of the review respectively\n",
    "    \n",
    "    texto_features = vectorizer.fit_transform(reviews).toarray()\n",
    "\n",
    "    # Dividir los datos en training(70%), validation (15%), and test (15%).\n",
    "    x_train, x_temp, y_train, y_temp = train_test_split(texto_features, labels, test_size=0.3, random_state=0)\n",
    "    x_val, x_test, y_val, y_test = train_test_split(x_temp, y_temp, test_size=0.5, random_state=0)\n",
    "    \n",
    "    #Entrenar el modelo naive bayes\n",
    "    nb = MultinomialNB()\n",
    "    nb.fit(x_train, y_train)\n",
    "\n",
    "    #Evaluar que tan buneo es el modelo\n",
    "    predictions = nb.predict(x_test)\n",
    "\n",
    "    # Ahora calculamos el score de accuracy enviando las predicciónes y los valores reales de polaridad.\n",
    "    print(accuracy_score(y_test, predictions))"
   ]
  },
  {
   "cell_type": "markdown",
   "id": "eaee547c-9f19-4462-bc13-3753cbef9dd9",
   "metadata": {},
   "source": [
    "### Prueba con una frase Naive Bayes"
   ]
  },
  {
   "cell_type": "code",
   "execution_count": 23,
   "id": "f1bf4d45-2119-4b1a-90e9-4b570e70618e",
   "metadata": {},
   "outputs": [
    {
     "name": "stdout",
     "output_type": "stream",
     "text": [
      "PASO 2 representación:   (0, 288)\t1\n",
      "  (0, 1208)\t1\n",
      "  (0, 1620)\t1\n",
      "  (0, 1660)\t1\n",
      "  (0, 1745)\t1\n",
      "PASO 3 predecir con el modelo: ['positive']\n"
     ]
    }
   ],
   "source": [
    "test = \"Its the best movie ive seen in terms of quality but I loved the overrall of the movie. Recommend it!\"\n",
    "\n",
    "procesamiento = processing_text(test)\n",
    "\n",
    "test_bow =vectorizer.transform([procesamiento]) # Ahora lo representamos como una bolsa de palabras. El vector resultante tiene 2500 posiciones.\n",
    "print(\"PASO 2 representación:\" ,test_bow)\n",
    "\n",
    "clase_test = nb.predict(test_bow)\n",
    "print(\"PASO 3 predecir con el modelo:\" ,clase_test)"
   ]
  },
  {
   "cell_type": "markdown",
   "id": "b67d96ad-3e8f-42e5-a450-2cdbf983f3c0",
   "metadata": {},
   "source": [
    "### Confussion Matrix"
   ]
  },
  {
   "cell_type": "code",
   "execution_count": 25,
   "id": "507836f5-2095-4cc7-9ccf-0a930219e1e4",
   "metadata": {},
   "outputs": [
    {
     "data": {
      "text/plain": [
       "<sklearn.metrics._plot.confusion_matrix.ConfusionMatrixDisplay at 0x182e531c430>"
      ]
     },
     "execution_count": 25,
     "metadata": {},
     "output_type": "execute_result"
    },
    {
     "data": {
      "image/png": "[encoded data removed]",
      "text/plain": [
       "<Figure size 640x480 with 2 Axes>"
      ]
     },
     "metadata": {},
     "output_type": "display_data"
    }
   ],
   "source": [
    "cm = confusion_matrix(y_test, predictions,labels=nb.classes_)\n",
    "matrix = ConfusionMatrixDisplay(confusion_matrix=cm, display_labels=nb.classes_)\n",
    "matrix.plot()"
   ]
  },
  {
   "cell_type": "markdown",
   "id": "a734c504-f7cf-41fb-b89f-c908d0076c47",
   "metadata": {},
   "source": [
    "#### Evaluation metrics precision, recall, F1, and accuracy"
   ]
  },
  {
   "cell_type": "code",
   "execution_count": 26,
   "id": "a4292c99-e0ac-425f-910d-94ee401a1ec1",
   "metadata": {},
   "outputs": [
    {
     "name": "stdout",
     "output_type": "stream",
     "text": [
      "              precision    recall  f1-score   support\n",
      "\n",
      "    negative     0.8813    0.8373    0.8587       461\n",
      "    positive     0.8404    0.8837    0.8615       447\n",
      "\n",
      "    accuracy                         0.8601       908\n",
      "   macro avg     0.8609    0.8605    0.8601       908\n",
      "weighted avg     0.8612    0.8601    0.8601       908\n",
      "\n"
     ]
    }
   ],
   "source": [
    "print(classification_report(y_test, predictions, digits=4))"
   ]
  },
  {
   "cell_type": "markdown",
   "id": "349ea464-e811-4534-8892-6875675b69b5",
   "metadata": {},
   "source": [
    "## Logistic Regression"
   ]
  },
  {
   "cell_type": "code",
   "execution_count": null,
   "id": "23a47a9e-fd44-405e-9d34-21a595b0319a",
   "metadata": {},
   "outputs": [],
   "source": []
  }
 ],
 "metadata": {
  "kernelspec": {
   "display_name": "Python 3 (ipykernel)",
   "language": "python",
   "name": "python3"
  },
  "language_info": {
   "codemirror_mode": {
    "name": "ipython",
    "version": 3
   },
   "file_extension": ".py",
   "mimetype": "text/x-python",
   "name": "python",
   "nbconvert_exporter": "python",
   "pygments_lexer": "ipython3",
   "version": "3.10.6"
  }
 },
 "nbformat": 4,
 "nbformat_minor": 5
}
