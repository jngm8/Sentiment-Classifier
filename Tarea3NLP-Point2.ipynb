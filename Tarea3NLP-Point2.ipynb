{
 "cells": [
  {
   "cell_type": "markdown",
   "id": "e305862f-49e2-4996-bbdf-0a859ede7a33",
   "metadata": {},
   "source": [
    "# Sentiment Analysis"
   ]
  },
  {
   "cell_type": "markdown",
   "id": "92122b33-ef9e-4749-822b-3f90b1f661d2",
   "metadata": {},
   "source": [
    "### 1) Classifier per Category"
   ]
  },
  {
   "cell_type": "code",
   "execution_count": 1,
   "id": "21bb879c-a121-4568-a154-cb8d4b9d2bbc",
   "metadata": {},
   "outputs": [
    {
     "name": "stderr",
     "output_type": "stream",
     "text": [
      "[nltk_data] Downloading package stopwords to\n",
      "[nltk_data]     C:\\Users\\user\\AppData\\Roaming\\nltk_data...\n",
      "[nltk_data]   Package stopwords is already up-to-date!\n"
     ]
    },
    {
     "data": {
      "text/plain": [
       "True"
      ]
     },
     "execution_count": 1,
     "metadata": {},
     "output_type": "execute_result"
    }
   ],
   "source": [
    "## Scikit-learn\n",
    "from sklearn.feature_extraction.text import CountVectorizer\n",
    "from sklearn.model_selection import train_test_split\n",
    "from sklearn.naive_bayes import MultinomialNB\n",
    "from sklearn.metrics import classification_report, confusion_matrix, accuracy_score, ConfusionMatrixDisplay\n",
    "\n",
    "## Librerias para graficación\n",
    "import matplotlib.pyplot as plt\n",
    "import seaborn as sns\n",
    "\n",
    "# NLTK es una librería particular para PLN. Tiene muchas funcionalidades entre ellas stemming y lista de palabras de parada.\n",
    "import nltk\n",
    "from nltk.corpus import stopwords\n",
    "import re\n",
    "import pandas as pd\n",
    "import os\n",
    "import csv\n",
    "\n",
    "stemmer = nltk.stem.SnowballStemmer('english') # Vamos a utlizar el Snowball Stemmer para realizar stemming (nos permite llevar las palabras a una forma estandar).\n",
    "nltk.download('stopwords')"
   ]
  },
  {
   "cell_type": "code",
   "execution_count": 2,
   "id": "779c2358-1b51-4db5-b037-0ddeef8b35e6",
   "metadata": {},
   "outputs": [],
   "source": [
    "#Preprocessing of words\n",
    "def processing_text(texto):\n",
    "    processed_feature = re.sub(r'\\W', ' ', str(texto))\n",
    "    processed_feature= re.sub(r'\\s+[a-zA-Z]\\s+', ' ', processed_feature)\n",
    "    processed_feature = re.sub(r'\\^[a-zA-Z]\\s+', ' ', processed_feature)\n",
    "    processed_feature = re.sub(r'[0-9]+', ' ', processed_feature)\n",
    "\n",
    "    return processed_feature"
   ]
  },
  {
   "cell_type": "code",
   "execution_count": 3,
   "id": "a49f3a6f",
   "metadata": {},
   "outputs": [],
   "source": [
    "# Define function to read and preprocess the reviews\n",
    "def read_and_preprocess_reviews(folder_path):\n",
    "    \n",
    "    dictionary_training = {}\n",
    "    dictionary_test = {}\n",
    "\n",
    "    #Define stopwords\n",
    "    stopwords_english = set(stopwords.words('english'))\n",
    "\n",
    "    for category in os.listdir(folder_path):\n",
    "        category_path = os.path.join(folder_path, category) #Category path\n",
    "        if os.path.isdir(category_path):\n",
    "            for sentiment in [\"positive\",\"negative\"]:\n",
    "                sentiment_path = os.path.join(category_path, sentiment + '.review') #Sentiment path\n",
    "                if os.path.isfile(sentiment_path):\n",
    "                    with open(sentiment_path, 'r',encoding='utf-8') as file:\n",
    "                        review_text = file.read()\n",
    "                        # Preprocess input data\n",
    "                        preprocess = processing_text(review_text)\n",
    "                        words = nltk.word_tokenize(preprocess)\n",
    "                        string = \"\"\n",
    "                        train_reviews = []\n",
    "                        train_labels = []\n",
    "                        \n",
    "                        for word in words:\n",
    "                            if word == \"positive\" or word == \"negative\":\n",
    "                                train_labels.append(word)\n",
    "                                train_reviews.append(string)\n",
    "                                string = \"\"\n",
    "                            else:\n",
    "                                string += word + \" \"\n",
    "                        \n",
    "        # list of reviews per category with their respective class(posituive or negative)     \n",
    "        dictionary_training[category] = (train_reviews,train_labels)\n",
    "\n",
    "        test_reviews = []\n",
    "        test_label = []\n",
    "        #Test set\n",
    "        sentiment_test_path = os.path.join(category_path, 'unlabeled.review') #Sentiment path test\n",
    "        if os.path.isfile(sentiment_test_path):\n",
    "            with open(sentiment_test_path, 'r',encoding='utf-8') as file:\n",
    "                review_text = file.read()\n",
    "                # Preprocess and remove stopwords\n",
    "                preprocess = processing_text(review_text)\n",
    "                words = nltk.word_tokenize(preprocess)\n",
    "                for word in words:\n",
    "                    if word == \"positive\" or word == \"negative\":\n",
    "                        test_label.append(word)\n",
    "                        test_reviews.append(string)\n",
    "                        string = \"\"\n",
    "                    else:\n",
    "                        string += word + \" \"\n",
    "                        \n",
    "        dictionary_test[category] = (test_reviews,test_label)\n",
    "\n",
    "    return dictionary_trining,test_reviews\n",
    "                \n",
    "\n",
    "data_folder = './Multi Domain Sentiment/processed_acl'\n",
    "data_per_category = read_and_preprocess_reviews(data_folder)[0]\n",
    "unlabeled_test_text = read_and_preprocess_reviews(data_folder)[1]"
   ]
  },
  {
   "cell_type": "code",
   "execution_count": 8,
   "id": "5a051e08-51bf-4fc8-b836-438e3be57a66",
   "metadata": {},
   "outputs": [
    {
     "name": "stdout",
     "output_type": "stream",
     "text": [
      "6052\n"
     ]
    }
   ],
   "source": [
    "#print(data_per_category[\"kitchen\"][0][0])\n",
    "print(len(unlabeled_test_text))"
   ]
  },
  {
   "cell_type": "code",
   "execution_count": 5,
   "id": "095e02d6-a9db-4246-8e34-c9ff967b5548",
   "metadata": {},
   "outputs": [
    {
     "name": "stdout",
     "output_type": "stream",
     "text": [
      "[0 0 0 0 0 0 0 0 0 0 0 0 0 0 0 0 0 0 0 0 0 0 0 0 0 0 0 0 0 0 0 0 0 0 0 0 0\n",
      " 0 0 0 0 0 0 0 0 0 0 0 0 0 0 0 0 0 0 0 0 0 0 0 0 0 0 0 0 0 0 0 0 0 0 0 0 0\n",
      " 0 0 1 0 0 0 0 0 0 0 0 0 0 0 0 0 0 0 0 0 0 0 0 0 0]\n",
      "[0 0 0 0 0 0 0 0 0 0 0 0 0 0 0 0 0 0 0 0 0 0 0 0 0 0 0 0 0 0 0 0 0 0 0 0 0\n",
      " 0 0 0 0 0 0 0 0 0 0 0 0 0 0 0 0 0 0 0 0 0 0 0 0 0 0 0 0 0 0 0 0 0 0 0 0 0\n",
      " 0 0 0 0 0 0 0 1 0 0 0 0 0 0 0 0 0 0 0 0 0 0 0 0 0]\n",
      "[0 0 0 0 0 0 0 0 0 0 0 0 0 0 0 0 0 0 0 0 0 0 0 1 2 0 0 0 0 0 0 0 0 0 0 0 0\n",
      " 0 0 0 0 0 0 0 0 0 0 0 0 0 0 0 0 0 0 0 0 0 0 0 0 0 0 0 0 0 0 0 0 0 0 0 0 0\n",
      " 0 0 0 0 0 0 0 0 0 0 0 0 0 0 1 0 0 0 0 0 0 0 0 0 0]\n",
      "[0 0 0 0 0 0 0 0 0 0 1 0 0 0 0 0 0 0 0 0 0 0 0 0 0 0 0 0 0 0 0 0 0 0 0 0 0\n",
      " 0 0 0 0 0 0 0 0 0 0 0 0 0 0 0 0 0 0 0 0 0 0 0 0 0 0 0 0 0 0 0 0 0 0 0 0 0\n",
      " 0 0 0 0 0 0 0 0 0 0 0 0 0 0 0 0 0 0 0 0 0 0 0 0 0]\n"
     ]
    }
   ],
   "source": [
    "#Bag of words\n",
    "vectorizer = CountVectorizer(max_features=2500, stop_words=stopwords.words('english'))\n",
    "# Vocabulario y tambien transforme nuestro texto\n",
    "for categories in data_per_category:\n",
    "    reviews = data_per_category[categories][0]\n",
    "    texto_features = vectorizer.fit_transform(reviews).toarray()\n",
    "    \n",
    "    nb = MultinomialNB()\n",
    "    nb.fit(texto_features, y_train)"
   ]
  },
  {
   "cell_type": "code",
   "execution_count": 7,
   "id": "e03b331b-b006-4c3f-8244-6eaf8489e612",
   "metadata": {},
   "outputs": [
    {
     "ename": "NameError",
     "evalue": "name 'X_train' is not defined",
     "output_type": "error",
     "traceback": [
      "\u001b[1;31m---------------------------------------------------------------------------\u001b[0m",
      "\u001b[1;31mNameError\u001b[0m                                 Traceback (most recent call last)",
      "Cell \u001b[1;32mIn[7], line 4\u001b[0m\n\u001b[0;32m      2\u001b[0m nb \u001b[38;5;241m=\u001b[39m MultinomialNB()\n\u001b[0;32m      3\u001b[0m \u001b[38;5;66;03m# El método fit en sklearn permite ejecutar el proceso de entrenamiento.\u001b[39;00m\n\u001b[1;32m----> 4\u001b[0m nb\u001b[38;5;241m.\u001b[39mfit(\u001b[43mX_train\u001b[49m, y_train)\n",
      "\u001b[1;31mNameError\u001b[0m: name 'X_train' is not defined"
     ]
    }
   ],
   "source": []
  },
  {
   "cell_type": "code",
   "execution_count": null,
   "id": "23a47a9e-fd44-405e-9d34-21a595b0319a",
   "metadata": {},
   "outputs": [],
   "source": []
  }
 ],
 "metadata": {
  "kernelspec": {
   "display_name": "Python 3 (ipykernel)",
   "language": "python",
   "name": "python3"
  },
  "language_info": {
   "codemirror_mode": {
    "name": "ipython",
    "version": 3
   },
   "file_extension": ".py",
   "mimetype": "text/x-python",
   "name": "python",
   "nbconvert_exporter": "python",
   "pygments_lexer": "ipython3",
   "version": "3.10.6"
  }
 },
 "nbformat": 4,
 "nbformat_minor": 5
}
